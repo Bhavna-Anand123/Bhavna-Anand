{
 "cells": [
  {
   "cell_type": "code",
   "execution_count": 1,
   "id": "136277f9",
   "metadata": {},
   "outputs": [],
   "source": [
    "# !pip install torch\n"
   ]
  },
  {
   "cell_type": "code",
   "execution_count": 7,
   "id": "ae9baa45",
   "metadata": {},
   "outputs": [],
   "source": [
    "import torch.onnx\n",
    "\n",
    "import torch.nn as nn"
   ]
  },
  {
   "cell_type": "code",
   "execution_count": 8,
   "id": "41b9d4c3",
   "metadata": {},
   "outputs": [],
   "source": [
    "#Function to Convert to ONNX \n",
    "def Convert_ONNX(): \n",
    "\n",
    "    # set the model to inference mode \n",
    "    model.eval() \n",
    "\n",
    "    # Let's create a dummy input tensor  \n",
    "#     dummy_input = torch.randn(1, input_size, requires_grad=True)  \n",
    "    dummy_input = torch.randn(1, 3, 224, 224)\n",
    "\n",
    "    # Export the model   \n",
    "    torch.onnx.export(model,         # model being run \n",
    "                    dummy_input,       # model input (or a tuple for multiple inputs) \n",
    "                    \"E:\\happy monk\\q5\\ssd_300.onnx\",       # where to save the model  \n",
    "                    export_params=True,  # store the trained parameter weights inside the model file \n",
    "                    opset_version=10,    # the ONNX version to export the model to \n",
    "                    do_constant_folding=True,  # whether to execute constant folding for optimization \n",
    "                    input_names = ['modelInput'],   # the model's input names \n",
    "                    output_names = ['modelOutput'], # the model's output names \n",
    "                    dynamic_axes={'modelInput' : {0 : 'batch_size'},    # variable length axes \n",
    "                    'modelOutput' : {0 : 'batch_size'}}) \n",
    "    print(\" \") \n",
    "    print('Model has been converted to ONNX')\n",
    "\n",
    "\n"
   ]
  },
  {
   "cell_type": "code",
   "execution_count": 19,
   "id": "9fe35158",
   "metadata": {},
   "outputs": [
    {
     "ename": "RuntimeError",
     "evalue": "Error(s) in loading state_dict for TempModel:\n\tMissing key(s) in state_dict: \"conv1.weight\", \"conv1.bias\". \n\tUnexpected key(s) in state_dict: \"b0.0.weight\", \"b0.0.bias\", \"b0.2.weight\", \"b0.2.bias\", \"b0.5.weight\", \"b0.5.bias\", \"b0.7.weight\", \"b0.7.bias\", \"b0.10.weight\", \"b0.10.bias\", \"b0.12.weight\", \"b0.12.bias\", \"b0.14.weight\", \"b0.14.bias\", \"b0.17.weight\", \"b0.17.bias\", \"b0.19.weight\", \"b0.19.bias\", \"b0.21.weight\", \"b0.21.bias\", \"b1.24.weight\", \"b1.24.bias\", \"b1.26.weight\", \"b1.26.bias\", \"b1.28.weight\", \"b1.28.bias\", \"extras.0.0.net.0.weight\", \"extras.0.0.net.0.bias\", \"extras.0.1.net.0.weight\", \"extras.0.1.net.0.bias\", \"extras.1.0.net.0.weight\", \"extras.1.0.net.0.bias\", \"extras.1.1.net.0.weight\", \"extras.1.1.net.0.bias\", \"extras.2.0.net.0.weight\", \"extras.2.0.net.0.bias\", \"extras.2.1.net.0.weight\", \"extras.2.1.net.0.bias\", \"extras.3.0.net.0.weight\", \"extras.3.0.net.0.bias\", \"extras.3.1.net.0.weight\", \"extras.3.1.net.0.bias\", \"extras.4.0.net.0.weight\", \"extras.4.0.net.0.bias\", \"extras.4.1.net.0.weight\", \"extras.4.1.net.0.bias\", \"l2_norm.weight\", \"classifiers.0.weight\", \"classifiers.0.bias\", \"classifiers.1.weight\", \"classifiers.1.bias\", \"classifiers.2.weight\", \"classifiers.2.bias\", \"classifiers.3.weight\", \"classifiers.3.bias\", \"classifiers.4.weight\", \"classifiers.4.bias\", \"classifiers.5.weight\", \"classifiers.5.bias\", \"box_regressions.0.weight\", \"box_regressions.0.bias\", \"box_regressions.1.weight\", \"box_regressions.1.bias\", \"box_regressions.2.weight\", \"box_regressions.2.bias\", \"box_regressions.3.weight\", \"box_regressions.3.bias\", \"box_regressions.4.weight\", \"box_regressions.4.bias\", \"box_regressions.5.weight\", \"box_regressions.5.bias\". ",
     "output_type": "error",
     "traceback": [
      "\u001b[1;31m---------------------------------------------------------------------------\u001b[0m",
      "\u001b[1;31mRuntimeError\u001b[0m                              Traceback (most recent call last)",
      "\u001b[1;32m~\\AppData\\Local\\Temp/ipykernel_12604/2829369294.py\u001b[0m in \u001b[0;36m<module>\u001b[1;34m\u001b[0m\n\u001b[0;32m     17\u001b[0m \u001b[1;31m# if '__name__'=='__main__':\u001b[0m\u001b[1;33m\u001b[0m\u001b[1;33m\u001b[0m\u001b[0m\n\u001b[0;32m     18\u001b[0m \u001b[0mmodel\u001b[0m \u001b[1;33m=\u001b[0m \u001b[0mTempModel\u001b[0m\u001b[1;33m(\u001b[0m\u001b[1;33m)\u001b[0m\u001b[1;33m\u001b[0m\u001b[1;33m\u001b[0m\u001b[0m\n\u001b[1;32m---> 19\u001b[1;33m \u001b[0mmodel\u001b[0m\u001b[1;33m.\u001b[0m\u001b[0mload_state_dict\u001b[0m\u001b[1;33m(\u001b[0m\u001b[0mtorch\u001b[0m\u001b[1;33m.\u001b[0m\u001b[0mload\u001b[0m\u001b[1;33m(\u001b[0m\u001b[0mpath\u001b[0m\u001b[1;33m,\u001b[0m \u001b[0mmap_location\u001b[0m\u001b[1;33m=\u001b[0m\u001b[0mtorch\u001b[0m\u001b[1;33m.\u001b[0m\u001b[0mdevice\u001b[0m\u001b[1;33m(\u001b[0m\u001b[1;34m'cpu'\u001b[0m\u001b[1;33m)\u001b[0m\u001b[1;33m)\u001b[0m\u001b[1;33m)\u001b[0m\u001b[1;33m\u001b[0m\u001b[1;33m\u001b[0m\u001b[0m\n\u001b[0m\u001b[0;32m     20\u001b[0m \u001b[1;31m# model.eval()\u001b[0m\u001b[1;33m\u001b[0m\u001b[1;33m\u001b[0m\u001b[0m\n\u001b[0;32m     21\u001b[0m \u001b[1;31m# model = Network()\u001b[0m\u001b[1;33m\u001b[0m\u001b[1;33m\u001b[0m\u001b[0m\n",
      "\u001b[1;32m~\\anaconda3\\lib\\site-packages\\torch\\nn\\modules\\module.py\u001b[0m in \u001b[0;36mload_state_dict\u001b[1;34m(self, state_dict, strict)\u001b[0m\n\u001b[0;32m   1669\u001b[0m \u001b[1;33m\u001b[0m\u001b[0m\n\u001b[0;32m   1670\u001b[0m         \u001b[1;32mif\u001b[0m \u001b[0mlen\u001b[0m\u001b[1;33m(\u001b[0m\u001b[0merror_msgs\u001b[0m\u001b[1;33m)\u001b[0m \u001b[1;33m>\u001b[0m \u001b[1;36m0\u001b[0m\u001b[1;33m:\u001b[0m\u001b[1;33m\u001b[0m\u001b[1;33m\u001b[0m\u001b[0m\n\u001b[1;32m-> 1671\u001b[1;33m             raise RuntimeError('Error(s) in loading state_dict for {}:\\n\\t{}'.format(\n\u001b[0m\u001b[0;32m   1672\u001b[0m                                self.__class__.__name__, \"\\n\\t\".join(error_msgs)))\n\u001b[0;32m   1673\u001b[0m         \u001b[1;32mreturn\u001b[0m \u001b[0m_IncompatibleKeys\u001b[0m\u001b[1;33m(\u001b[0m\u001b[0mmissing_keys\u001b[0m\u001b[1;33m,\u001b[0m \u001b[0munexpected_keys\u001b[0m\u001b[1;33m)\u001b[0m\u001b[1;33m\u001b[0m\u001b[1;33m\u001b[0m\u001b[0m\n",
      "\u001b[1;31mRuntimeError\u001b[0m: Error(s) in loading state_dict for TempModel:\n\tMissing key(s) in state_dict: \"conv1.weight\", \"conv1.bias\". \n\tUnexpected key(s) in state_dict: \"b0.0.weight\", \"b0.0.bias\", \"b0.2.weight\", \"b0.2.bias\", \"b0.5.weight\", \"b0.5.bias\", \"b0.7.weight\", \"b0.7.bias\", \"b0.10.weight\", \"b0.10.bias\", \"b0.12.weight\", \"b0.12.bias\", \"b0.14.weight\", \"b0.14.bias\", \"b0.17.weight\", \"b0.17.bias\", \"b0.19.weight\", \"b0.19.bias\", \"b0.21.weight\", \"b0.21.bias\", \"b1.24.weight\", \"b1.24.bias\", \"b1.26.weight\", \"b1.26.bias\", \"b1.28.weight\", \"b1.28.bias\", \"extras.0.0.net.0.weight\", \"extras.0.0.net.0.bias\", \"extras.0.1.net.0.weight\", \"extras.0.1.net.0.bias\", \"extras.1.0.net.0.weight\", \"extras.1.0.net.0.bias\", \"extras.1.1.net.0.weight\", \"extras.1.1.net.0.bias\", \"extras.2.0.net.0.weight\", \"extras.2.0.net.0.bias\", \"extras.2.1.net.0.weight\", \"extras.2.1.net.0.bias\", \"extras.3.0.net.0.weight\", \"extras.3.0.net.0.bias\", \"extras.3.1.net.0.weight\", \"extras.3.1.net.0.bias\", \"extras.4.0.net.0.weight\", \"extras.4.0.net.0.bias\", \"extras.4.1.net.0.weight\", \"extras.4.1.net.0.bias\", \"l2_norm.weight\", \"classifiers.0.weight\", \"classifiers.0.bias\", \"classifiers.1.weight\", \"classifiers.1.bias\", \"classifiers.2.weight\", \"classifiers.2.bias\", \"classifiers.3.weight\", \"classifiers.3.bias\", \"classifiers.4.weight\", \"classifiers.4.bias\", \"classifiers.5.weight\", \"classifiers.5.bias\", \"box_regressions.0.weight\", \"box_regressions.0.bias\", \"box_regressions.1.weight\", \"box_regressions.1.bias\", \"box_regressions.2.weight\", \"box_regressions.2.bias\", \"box_regressions.3.weight\", \"box_regressions.3.bias\", \"box_regressions.4.weight\", \"box_regressions.4.bias\", \"box_regressions.5.weight\", \"box_regressions.5.bias\". "
     ]
    }
   ],
   "source": [
    "path = \"E:\\happy monk\\q5\\ssd300_latest.pth\"\n",
    "# device = torch.device(\"cuda\" if torch.cuda.is_available() else \"cpu\")\n",
    "# checkpoint = path\n",
    "# model = torch.load(path, map_location=torch.device('cpu'))\n",
    "# start_epoch = checkpoint['epoch'] + 1\n",
    "# print('\\nLoaded checkpoint from epoch %d.\\n' % start_epoch)\n",
    "# model = checkpoint['model']\n",
    "# model = model.to(device)\n",
    "\n",
    "\n",
    "class TempModel(nn.Module):\n",
    "    def __init__(self):\n",
    "        super(TempModel, self).__init__()\n",
    "        self.conv1 = nn.Conv2d(3, 5, (3, 3))\n",
    "    def forward(self, inp):\n",
    "        return self.conv1(inp)\n",
    "# if '__name__'=='__main__':\n",
    "model = TempModel()\n",
    "model.load_state_dict(torch.load(path, map_location=torch.device('cpu')))\n",
    "# model.eval()\n",
    "# model = Network() \n",
    "# model=torch.load((path,map_location=torch.device('cpu')))\n",
    "\n",
    "\n",
    "# Conversion to ONNX \n",
    "Convert_ONNX()"
   ]
  },
  {
   "cell_type": "code",
   "execution_count": null,
   "id": "1296c6d2",
   "metadata": {},
   "outputs": [],
   "source": []
  }
 ],
 "metadata": {
  "kernelspec": {
   "display_name": "Python 3 (ipykernel)",
   "language": "python",
   "name": "python3"
  },
  "language_info": {
   "codemirror_mode": {
    "name": "ipython",
    "version": 3
   },
   "file_extension": ".py",
   "mimetype": "text/x-python",
   "name": "python",
   "nbconvert_exporter": "python",
   "pygments_lexer": "ipython3",
   "version": "3.9.7"
  }
 },
 "nbformat": 4,
 "nbformat_minor": 5
}
